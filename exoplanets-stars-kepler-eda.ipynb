{
 "cells": [
  {
   "cell_type": "code",
   "execution_count": 1,
   "id": "da3ba1ba",
   "metadata": {
    "execution": {
     "iopub.execute_input": "2023-12-16T11:37:23.296796Z",
     "iopub.status.busy": "2023-12-16T11:37:23.295449Z",
     "iopub.status.idle": "2023-12-16T11:37:23.301484Z",
     "shell.execute_reply": "2023-12-16T11:37:23.300375Z"
    },
    "papermill": {
     "duration": 0.021066,
     "end_time": "2023-12-16T11:37:23.304025",
     "exception": false,
     "start_time": "2023-12-16T11:37:23.282959",
     "status": "completed"
    },
    "tags": []
   },
   "outputs": [],
   "source": [
    "#web source: https://www.kaggle.com/datasets/anmolbajpai/planetary-systems-nasa-exoplanet-archive/data\n",
    "#ORIGINAL SOURCE: NASA's Exoplanet Archive"
   ]
  },
  {
   "cell_type": "markdown",
   "id": "2aceba64",
   "metadata": {
    "papermill": {
     "duration": 0.007856,
     "end_time": "2023-12-16T11:37:23.320908",
     "exception": false,
     "start_time": "2023-12-16T11:37:23.313052",
     "status": "completed"
    },
    "tags": []
   },
   "source": [
    "![](https://www.mdscc.nasa.gov/wp-content/uploads/2019/08/keplerbeautyshot.jpg)"
   ]
  },
  {
   "cell_type": "code",
   "execution_count": 2,
   "id": "3026efe1",
   "metadata": {
    "execution": {
     "iopub.execute_input": "2023-12-16T11:37:23.339617Z",
     "iopub.status.busy": "2023-12-16T11:37:23.339125Z",
     "iopub.status.idle": "2023-12-16T11:37:25.864256Z",
     "shell.execute_reply": "2023-12-16T11:37:25.863047Z"
    },
    "papermill": {
     "duration": 2.538126,
     "end_time": "2023-12-16T11:37:25.867308",
     "exception": false,
     "start_time": "2023-12-16T11:37:23.329182",
     "status": "completed"
    },
    "tags": []
   },
   "outputs": [],
   "source": [
    "import pandas as pd \n",
    "import numpy as np\n",
    "import matplotlib.pyplot as plt\n",
    "import seaborn as sns\n",
    "import warnings\n",
    "warnings.filterwarnings('ignore')\n",
    "\n",
    "from sklearn.impute import SimpleImputer\n",
    "from sklearn.pipeline import Pipeline\n",
    "from sklearn.preprocessing import OneHotEncoder, MinMaxScaler\n",
    "from sklearn.model_selection import train_test_split\n",
    "from sklearn.linear_model import LinearRegression\n",
    "from sklearn.metrics import mean_squared_error\n",
    "from xgboost import XGBRegressor"
   ]
  },
  {
   "cell_type": "code",
   "execution_count": 3,
   "id": "eb6d0535",
   "metadata": {
    "execution": {
     "iopub.execute_input": "2023-12-16T11:37:25.886793Z",
     "iopub.status.busy": "2023-12-16T11:37:25.885731Z",
     "iopub.status.idle": "2023-12-16T11:37:25.896999Z",
     "shell.execute_reply": "2023-12-16T11:37:25.896136Z"
    },
    "papermill": {
     "duration": 0.02366,
     "end_time": "2023-12-16T11:37:25.899559",
     "exception": false,
     "start_time": "2023-12-16T11:37:25.875899",
     "status": "completed"
    },
    "tags": []
   },
   "outputs": [
    {
     "name": "stdout",
     "output_type": "stream",
     "text": [
      "/kaggle/input/planetary-systems-nasa-exoplanet-archive/planetary_systems.csv\n"
     ]
    }
   ],
   "source": [
    "import os\n",
    "for dirname, _, filenames in os.walk('/kaggle/input'):\n",
    "    for filename in filenames:\n",
    "        print(os.path.join(dirname, filename))"
   ]
  },
  {
   "cell_type": "code",
   "execution_count": 4,
   "id": "d0e58a92",
   "metadata": {
    "execution": {
     "iopub.execute_input": "2023-12-16T11:37:25.918996Z",
     "iopub.status.busy": "2023-12-16T11:37:25.917851Z",
     "iopub.status.idle": "2023-12-16T11:37:26.833703Z",
     "shell.execute_reply": "2023-12-16T11:37:26.832499Z"
    },
    "papermill": {
     "duration": 0.928684,
     "end_time": "2023-12-16T11:37:26.836721",
     "exception": false,
     "start_time": "2023-12-16T11:37:25.908037",
     "status": "completed"
    },
    "tags": []
   },
   "outputs": [],
   "source": [
    "df=pd.read_csv('/kaggle/input/planetary-systems-nasa-exoplanet-archive/planetary_systems.csv')"
   ]
  },
  {
   "cell_type": "markdown",
   "id": "452bfae2",
   "metadata": {
    "papermill": {
     "duration": 0.008318,
     "end_time": "2023-12-16T11:37:26.853659",
     "exception": false,
     "start_time": "2023-12-16T11:37:26.845341",
     "status": "completed"
    },
    "tags": []
   },
   "source": [
    "# 1.1- COLUMNS DESCRIPTION"
   ]
  },
  {
   "cell_type": "raw",
   "id": "2b0ec9a1",
   "metadata": {
    "papermill": {
     "duration": 0.007855,
     "end_time": "2023-12-16T11:37:26.870005",
     "exception": false,
     "start_time": "2023-12-16T11:37:26.862150",
     "status": "completed"
    },
    "tags": []
   },
   "source": [
    "pl_name: the name of the planet.\n",
    "hostname: the name of the star that the planet orbits.\n",
    "default_flag: a flag indicating whether the planet is the default planet for the host star (1) or not (0).\n",
    "sy_snum: the number of stars in the system.\n",
    "sy_pnum: the number of planets in the system.\n",
    "\n",
    "Planet Discovery\n",
    "discoverymethod: the method used to discover the planet.\n",
    "disc_year: the year the planet was discovered.\n",
    "disc_facility: the facility that was used to discover the planet.\n",
    "soltype: the type of planetary system (e.g. binary star system, triple star system, etc.).\n",
    "\n",
    "Planet Parameters\n",
    "pl_controv_flag: a flag indicating whether the planet's existence is controversial (1) or not (0).\n",
    "pl_refname: the reference name for the planet.\n",
    "pl_orbper: the planet's orbital period in days.\n",
    "pl_orbpererr1: the positive error on the planet's orbital period.\n",
    "pl_orbpererr2: the negative error on the planet's orbital period.\n",
    "pl_orbperlim: a flag indicating whether the planet's orbital period is a lower limit (1), an upper limit (-1), or not a limit (0).\n",
    "pl_orbsmax: the planet's semi-major axis in AU.\n",
    "pl_orbsmaxerr1: the positive error on the planet's semi-major axis.\n",
    "pl_orbsmaxerr2: the negative error on the planet's semi-major axis.\n",
    "pl_orbsmaxlim: a flag indicating whether the planet's semi-major axis is a lower limit (1), an upper limit (-1), or not a limit (0).\n",
    "pl_rade: the planet's radius in Earth radii.\n",
    "pl_radeerr1: the positive error on the planet's radius.\n",
    "pl_radeerr2: the negative error on the planet's radius.\n",
    "pl_radelim: a flag indicating whether the planet's radius is a lower limit (1), an upper limit (-1), or not a limit (0).\n",
    "pl_radj: the planet's radius in Jupiter radii.\n",
    "pl_radjerr1: the positive error on the planet's radius.\n",
    "pl_radjerr2: the negative error on the planet's radius.\n",
    "pl_radjlim: a flag indicating whether the planet's radius is a lower limit (1), an upper limit (-1), or not a limit (0).\n",
    "pl_bmasse: the planet's mass in Earth masses.\n",
    "pl_bmasseerr1: the positive error on the planet's mass.\n",
    "pl_bmasseerr2: the negative error on the planet's mass.\n",
    "pl_bmasselim: a flag indicating whether the planet's mass is a lower limit (1), an upper limit (-1), or not a limit (0).\n",
    "pl_bmassj: the planet's mass in Jupiter masses.\n",
    "pl_bmassjerr1: the positive error on the planet's mass.\n",
    "pl_bmassjerr2: the negative error on the planet's mass.\n",
    "pl_bmassjlim: a flag indicating whether the planet's mass is a lower limit (1), an upper limit (-1), or not a limit (0).\n",
    "pl_bmassprov: the method used to determine the planet's mass.\n",
    "pl_orbeccen: the planet's eccentricity.\n",
    "pl_orbeccenerr1: the positive error on the planet's eccentricity.\n",
    "pl_orbeccenerr2: the negative error on the planet's eccentricity.\n",
    "pl_orbeccenlim: a flag\n",
    "pl_insol: the planet's insolation flux in Earth insolation flux units (flux received by Earth at 1 AU).\n",
    "pl_insolerr1: the positive error on the planet's insolation flux.\n",
    "pl_insolerr2: the negative error on the planet's insolation flux.\n",
    "pl_insollim: a flag indicating whether the planet's insolation flux is a lower limit (1), an upper limit (-1), or not a limit (0).\n",
    "pl_eqt: the planet's equilibrium temperature in Kelvin.\n",
    "pl_eqterr1: the positive error on the planet's equilibrium temperature.\n",
    "pl_eqterr2: the negative error on the planet's equilibrium temperature.\n",
    "pl_eqtlim: a flag indicating whether the planet's equilibrium temperature is a lower limit (1), an upper limit (-1), or not a limit (0).\n",
    "ttv_flag: a flag indicating whether there is evidence of transit timing variations for the planet (1) or not (0).\n",
    "\n",
    "Stellar Data\n",
    "st_refname: the reference name for the star.\n",
    "st_spectype: the spectral type of the star.\n",
    "st_teff: the effective temperature of the star in Kelvin.\n",
    "st_tefferr1: the positive error on the effective temperature.\n",
    "st_tefferr2: the negative error on the effective temperature.\n",
    "st_tefflim: a flag indicating whether the effective temperature is a lower limit (1), an upper limit (-1), or not a limit (0).\n",
    "st_rad: the radius of the star in solar radii.\n",
    "st_raderr1: the positive error on the star's radius.\n",
    "st_raderr2: the negative error on the star's radius.\n",
    "st_radlim: a flag indicating whether the star's radius is a lower limit (1), an upper limit (-1), or not a limit (0).\n",
    "st_mass: the mass of the star in solar masses.\n",
    "st_masserr1: the positive error on the star's mass.\n",
    "st_masserr2: the negative error on the star's mass.\n",
    "st_masslim: a flag indicating whether the star's mass is a lower limit (1), an upper limit (-1), or not a limit (0).\n",
    "st_met: the metallicity of the star.\n",
    "st_meterr1: the positive error on the star's metallicity.\n",
    "st_meterr2: the negative error on the star's metallicity.\n",
    "st_metlim: a flag indicating whether the star's metallicity is a lower limit (1), an upper limit (-1), or not a limit (0).\n",
    "st_metratio: the ratio of the star's metallicity to the solar metallicity.\n",
    "st_logg: the surface gravity of the star in cgs units.\n",
    "st_loggerr1: the positive error on the star's surface gravity.\n",
    "st_loggerr2: the negative error on the star's surface gravity.\n",
    "st_logglim: a flag indicating whether the star's surface gravity is a lower limit (1), an upper limit (-1), or not a limit (0).\n",
    "sy_refname: the reference name for the planetary system.\n",
    "rastr: the right ascension of the star in sexagesimal format.\n",
    "ra: the right ascension of the star in decimal degrees.\n",
    "decstr: the declination of the star in sexagesimal format.\n",
    "dec: the declination of the star in decimal degrees.\n",
    "\n",
    "Photometry (System Data Subset)\n",
    "sy_dist: the distance to the star in parsecs.\n",
    "sy_disterr1: the positive error on the distance to the star.\n",
    "sy_disterr2: the negative error on the distance to the star.\n",
    "sy_vmag: the apparent V-band magnitude of the star.\n",
    "sy_vmagerr1: the positive error on the apparent V-band magnitude.\n",
    "sy_vmagerr2: the negative error on the apparent V-band magnitude.\n",
    "sy_kmag: the apparent K-band magnitude of the star.\n",
    "sy_kmagerr1: the positive error on the apparent K-band magnitude.\n",
    "sy_kmagerr2: the negative error on the apparent K-band magnitude.\n",
    "sy_gaiamag: the Gaia G-band magnitude of the star.\n",
    "sy_gaiamagerr1: the positive error on the Gaia G-band magnitude.\n",
    "sy_gaiamagerr2: the negative error on the Gaia G-band magnitude.\n",
    "rowupdate: the date when the row was last updated.\n",
    "pl_pubdate: the date when the planet was last published.\n",
    "releasedate: the date when the data was last released."
   ]
  },
  {
   "cell_type": "markdown",
   "id": "9ebd54f0",
   "metadata": {
    "papermill": {
     "duration": 0.007802,
     "end_time": "2023-12-16T11:37:26.886328",
     "exception": false,
     "start_time": "2023-12-16T11:37:26.878526",
     "status": "completed"
    },
    "tags": []
   },
   "source": [
    "# 1.2- INTERESTING FEATURES TO HAVE A LOOK AT EXOPLANETS HABITABILITY"
   ]
  },
  {
   "cell_type": "raw",
   "id": "e447da98",
   "metadata": {
    "papermill": {
     "duration": 0.007859,
     "end_time": "2023-12-16T11:37:26.902903",
     "exception": false,
     "start_time": "2023-12-16T11:37:26.895044",
     "status": "completed"
    },
    "tags": []
   },
   "source": [
    "pl_name: The name of the planet (may not be directly relevant for habitability prediction but can be used for identification).\n",
    "hostname: The name of the star that the planet orbits (the properties of the star are crucial for habitability).\n",
    "default_flag: A flag indicating whether the planet is the default planet for the host star (may be relevant if default planets have specific characteristics).\n",
    "sy_snum: The number of stars in the system (could be relevant for system complexity).\n",
    "sy_pnum: The number of planets in the system (may be indicative of system stability)."
   ]
  },
  {
   "cell_type": "raw",
   "id": "f34a6436",
   "metadata": {
    "papermill": {
     "duration": 0.007732,
     "end_time": "2023-12-16T11:37:26.918925",
     "exception": false,
     "start_time": "2023-12-16T11:37:26.911193",
     "status": "completed"
    },
    "tags": []
   },
   "source": [
    "Planet Discovery:\n",
    "\n",
    "discoverymethod: The method used to discover the planet (may indicate the reliability of the discovery).\n",
    "disc_facility: The facility that was used to discover the planet (may indicate the precision of measurements)."
   ]
  },
  {
   "cell_type": "raw",
   "id": "0e1944f0",
   "metadata": {
    "papermill": {
     "duration": 0.007774,
     "end_time": "2023-12-16T11:37:26.935211",
     "exception": false,
     "start_time": "2023-12-16T11:37:26.927437",
     "status": "completed"
    },
    "tags": []
   },
   "source": [
    "Planet Parameters:\n",
    "\n",
    "pl_orbper: The planet's orbital period in days (important for habitability).\n",
    "pl_orbsmax: The planet's semi-major axis in AU (distance from the star - important for habitability).\n",
    "pl_rade: The planet's radius in Earth radii (size is crucial for habitability).\n",
    "pl_bmasse: The planet's mass in Earth masses (mass is important for gravity and atmosphere).\n",
    "pl_orbeccen: The planet's eccentricity (may impact climate and habitability).\n",
    "pl_eqt: the planet's equilibrium temperature in Kelvin.\n",
    "pl_insol: the planet's insolation flux in Earth insolation flux units (flux received by Earth at 1 AU).\n",
    "\n",
    "Stellar Data:\n",
    "\n",
    "st_teff: The effective temperature of the star in Kelvin (critical for habitability).\n",
    "st_rad: The radius of the star in solar radii (size and luminosity are important for habitability).\n",
    "st_mass: The mass of the star in solar masses (mass impacts the star's lifecycle and habitability).\n",
    "st_met: The metallicity of the star (may affect the composition of planets).\n",
    "\n",
    "Photometry:\n",
    "\n",
    "sy_dist: The distance to the star in parsecs (important for calculating insolation).\n",
    "sy_vmag: The apparent V-band magnitude of the star (brightness of the star).\n",
    "sy_kmag: The apparent K-band magnitude of the star (may indicate the star's temperature)."
   ]
  },
  {
   "cell_type": "markdown",
   "id": "49f6f7fb",
   "metadata": {
    "papermill": {
     "duration": 0.007803,
     "end_time": "2023-12-16T11:37:26.951259",
     "exception": false,
     "start_time": "2023-12-16T11:37:26.943456",
     "status": "completed"
    },
    "tags": []
   },
   "source": [
    "#     LATER ON WE WILL FIND OUT THAT WE HAVE A LOT OF MISSING VALUES IN THE EXOPLANETS INFO. PERHAPS IT WOULD BE MORE INTERESTING TO CREATE A MODEL EVALUATING POTENTIAL LIFE SUPPORTING STARS SINCE WE HAVE MUCH MORE DATA"
   ]
  },
  {
   "cell_type": "markdown",
   "id": "8cd180cd",
   "metadata": {
    "papermill": {
     "duration": 0.007912,
     "end_time": "2023-12-16T11:37:26.967438",
     "exception": false,
     "start_time": "2023-12-16T11:37:26.959526",
     "status": "completed"
    },
    "tags": []
   },
   "source": [
    "#  EXPLORING DATA"
   ]
  },
  {
   "cell_type": "code",
   "execution_count": 5,
   "id": "f2b24b78",
   "metadata": {
    "execution": {
     "iopub.execute_input": "2023-12-16T11:37:26.986535Z",
     "iopub.status.busy": "2023-12-16T11:37:26.986039Z",
     "iopub.status.idle": "2023-12-16T11:37:26.994712Z",
     "shell.execute_reply": "2023-12-16T11:37:26.993600Z"
    },
    "papermill": {
     "duration": 0.020735,
     "end_time": "2023-12-16T11:37:26.996918",
     "exception": false,
     "start_time": "2023-12-16T11:37:26.976183",
     "status": "completed"
    },
    "tags": []
   },
   "outputs": [
    {
     "data": {
      "text/plain": [
       "(33972, 92)"
      ]
     },
     "execution_count": 5,
     "metadata": {},
     "output_type": "execute_result"
    }
   ],
   "source": [
    "df.shape  #SHAPE OF DF: (33972, 92)"
   ]
  },
  {
   "cell_type": "code",
   "execution_count": 6,
   "id": "89723e31",
   "metadata": {
    "execution": {
     "iopub.execute_input": "2023-12-16T11:37:27.017201Z",
     "iopub.status.busy": "2023-12-16T11:37:27.016682Z",
     "iopub.status.idle": "2023-12-16T11:37:27.077844Z",
     "shell.execute_reply": "2023-12-16T11:37:27.076638Z"
    },
    "papermill": {
     "duration": 0.074501,
     "end_time": "2023-12-16T11:37:27.080446",
     "exception": false,
     "start_time": "2023-12-16T11:37:27.005945",
     "status": "completed"
    },
    "tags": []
   },
   "outputs": [
    {
     "data": {
      "text/plain": [
       "73"
      ]
     },
     "execution_count": 6,
     "metadata": {},
     "output_type": "execute_result"
    }
   ],
   "source": [
    "#CHECKING NULL VALUES\n",
    "columns_list=[e for e in df.columns]\n",
    "missing_values_columns=[]  \n",
    "for co in columns_list:\n",
    "    if df[co].isnull().any()==True:\n",
    "        missing_values_columns.append(co)\n",
    "len(missing_values_columns)"
   ]
  },
  {
   "cell_type": "code",
   "execution_count": 7,
   "id": "df97765d",
   "metadata": {
    "execution": {
     "iopub.execute_input": "2023-12-16T11:37:27.100308Z",
     "iopub.status.busy": "2023-12-16T11:37:27.099791Z",
     "iopub.status.idle": "2023-12-16T11:37:27.107850Z",
     "shell.execute_reply": "2023-12-16T11:37:27.106737Z"
    },
    "papermill": {
     "duration": 0.021009,
     "end_time": "2023-12-16T11:37:27.110422",
     "exception": false,
     "start_time": "2023-12-16T11:37:27.089413",
     "status": "completed"
    },
    "tags": []
   },
   "outputs": [
    {
     "data": {
      "text/plain": [
       "19"
      ]
     },
     "execution_count": 7,
     "metadata": {},
     "output_type": "execute_result"
    }
   ],
   "source": [
    "#COLUMN NAMES WITH NO MISSING VALUES AT ALL\n",
    "non_missing=[]\n",
    "for el in columns_list:\n",
    "    if el not in missing_values_columns:\n",
    "        non_missing.append(el)\n",
    "len(non_missing)"
   ]
  },
  {
   "cell_type": "code",
   "execution_count": 8,
   "id": "f1953f26",
   "metadata": {
    "execution": {
     "iopub.execute_input": "2023-12-16T11:37:27.131838Z",
     "iopub.status.busy": "2023-12-16T11:37:27.131382Z",
     "iopub.status.idle": "2023-12-16T11:37:27.151852Z",
     "shell.execute_reply": "2023-12-16T11:37:27.150763Z"
    },
    "papermill": {
     "duration": 0.033385,
     "end_time": "2023-12-16T11:37:27.154449",
     "exception": false,
     "start_time": "2023-12-16T11:37:27.121064",
     "status": "completed"
    },
    "tags": []
   },
   "outputs": [
    {
     "data": {
      "text/plain": [
       "(16, 76)"
      ]
     },
     "execution_count": 8,
     "metadata": {},
     "output_type": "execute_result"
    }
   ],
   "source": [
    "categorical_columns = df.select_dtypes(include='object').columns.tolist()\n",
    "numerical_columns = df.select_dtypes(include=['int64', 'float64']).columns.tolist()\n",
    "len(categorical_columns), len(numerical_columns)"
   ]
  },
  {
   "cell_type": "code",
   "execution_count": 9,
   "id": "7de9a995",
   "metadata": {
    "execution": {
     "iopub.execute_input": "2023-12-16T11:37:27.174727Z",
     "iopub.status.busy": "2023-12-16T11:37:27.174254Z",
     "iopub.status.idle": "2023-12-16T11:37:27.213265Z",
     "shell.execute_reply": "2023-12-16T11:37:27.212081Z"
    },
    "papermill": {
     "duration": 0.052313,
     "end_time": "2023-12-16T11:37:27.215869",
     "exception": false,
     "start_time": "2023-12-16T11:37:27.163556",
     "status": "completed"
    },
    "tags": []
   },
   "outputs": [
    {
     "data": {
      "text/plain": [
       "(58, 92)"
      ]
     },
     "execution_count": 9,
     "metadata": {},
     "output_type": "execute_result"
    }
   ],
   "source": [
    "#WHAT IF WE DROP NA?\n",
    "df.dropna().shape  #ONLY 58 SAMPLES DO NOT HAVE MISSING VALUES"
   ]
  },
  {
   "cell_type": "code",
   "execution_count": 10,
   "id": "1914268d",
   "metadata": {
    "execution": {
     "iopub.execute_input": "2023-12-16T11:37:27.237307Z",
     "iopub.status.busy": "2023-12-16T11:37:27.236434Z",
     "iopub.status.idle": "2023-12-16T11:37:27.411627Z",
     "shell.execute_reply": "2023-12-16T11:37:27.410354Z"
    },
    "papermill": {
     "duration": 0.189133,
     "end_time": "2023-12-16T11:37:27.414652",
     "exception": false,
     "start_time": "2023-12-16T11:37:27.225519",
     "status": "completed"
    },
    "tags": []
   },
   "outputs": [
    {
     "data": {
      "text/plain": [
       "53"
      ]
     },
     "execution_count": 10,
     "metadata": {},
     "output_type": "execute_result"
    }
   ],
   "source": [
    "#WHAT IF WE DROP DUPLICATES?\n",
    "df.shape[0]-df.drop_duplicates().shape[0] #THERE ARE 53 DUPLICATES"
   ]
  },
  {
   "cell_type": "code",
   "execution_count": 11,
   "id": "01f249bb",
   "metadata": {
    "execution": {
     "iopub.execute_input": "2023-12-16T11:37:27.436417Z",
     "iopub.status.busy": "2023-12-16T11:37:27.435942Z",
     "iopub.status.idle": "2023-12-16T11:37:27.594281Z",
     "shell.execute_reply": "2023-12-16T11:37:27.593179Z"
    },
    "papermill": {
     "duration": 0.172852,
     "end_time": "2023-12-16T11:37:27.597217",
     "exception": false,
     "start_time": "2023-12-16T11:37:27.424365",
     "status": "completed"
    },
    "tags": []
   },
   "outputs": [],
   "source": [
    "df.drop_duplicates(inplace=True)"
   ]
  },
  {
   "cell_type": "markdown",
   "id": "19381499",
   "metadata": {
    "papermill": {
     "duration": 0.009078,
     "end_time": "2023-12-16T11:37:27.615823",
     "exception": false,
     "start_time": "2023-12-16T11:37:27.606745",
     "status": "completed"
    },
    "tags": []
   },
   "source": [
    "# SELECTING SOME COLUMNS THAT ARE CRUCIAL FOR THE EXOPLANET TO BE HABITABLE"
   ]
  },
  {
   "cell_type": "code",
   "execution_count": 12,
   "id": "97cf817d",
   "metadata": {
    "execution": {
     "iopub.execute_input": "2023-12-16T11:37:27.636495Z",
     "iopub.status.busy": "2023-12-16T11:37:27.636044Z",
     "iopub.status.idle": "2023-12-16T11:37:27.643100Z",
     "shell.execute_reply": "2023-12-16T11:37:27.641803Z"
    },
    "papermill": {
     "duration": 0.020046,
     "end_time": "2023-12-16T11:37:27.645316",
     "exception": false,
     "start_time": "2023-12-16T11:37:27.625270",
     "status": "completed"
    },
    "tags": []
   },
   "outputs": [],
   "source": [
    "#TO IDENTIFY EXOPLANET, SYSTEM AND STAR\n",
    "IDENTIFICATION_columns=[\"pl_name\", \"hostname\", \"default_flag\", \"sy_snum\", \"sy_pnum\"]\n",
    "#RELATED TO THE RELIABILITY \n",
    "DISCOVERY_columns=[\"discoverymethod\", \"disc_facility\"]\n",
    "#IMPORTANT PARAMETERS OF THE PLANETS TO FIGURE OUT THEIR HABITABILITY\n",
    "PARAMETERS_columns=[\"pl_orbper\",\"pl_orbsmax\",\"pl_rade\", \"pl_bmasse\", \"pl_orbeccen\", \"pl_insol\", \"pl_eqt\"]\n",
    "#STAR FEATURES MAY HELP IDENTIFY HABITABILITY\n",
    "STELLAR_columns=[\"st_teff\", \"st_mass\", \"st_rad\", \"st_met\"]\n",
    "#STAR DATA THAT MAY REINFORCE THE PREVIOUS FEATURES\n",
    "PHOTOMETRY_columns=[\"sy_dist\", \"sy_vmag\", \"sy_kmag\"]\n",
    "\n",
    "list_types_features=[IDENTIFICATION_columns, DISCOVERY_columns, PARAMETERS_columns,STELLAR_columns,PHOTOMETRY_columns]"
   ]
  },
  {
   "cell_type": "code",
   "execution_count": 13,
   "id": "8f23b5da",
   "metadata": {
    "execution": {
     "iopub.execute_input": "2023-12-16T11:37:27.667311Z",
     "iopub.status.busy": "2023-12-16T11:37:27.666491Z",
     "iopub.status.idle": "2023-12-16T11:37:27.670889Z",
     "shell.execute_reply": "2023-12-16T11:37:27.670135Z"
    },
    "papermill": {
     "duration": 0.018224,
     "end_time": "2023-12-16T11:37:27.673091",
     "exception": false,
     "start_time": "2023-12-16T11:37:27.654867",
     "status": "completed"
    },
    "tags": []
   },
   "outputs": [],
   "source": [
    "#GETTING ALL THE COLUMNS TOGETHER IN A LIST\n",
    "column_names=[i for e in list_types_features for i in e]"
   ]
  },
  {
   "cell_type": "markdown",
   "id": "3ec91865",
   "metadata": {
    "papermill": {
     "duration": 0.009427,
     "end_time": "2023-12-16T11:37:27.782292",
     "exception": false,
     "start_time": "2023-12-16T11:37:27.772865",
     "status": "completed"
    },
    "tags": []
   },
   "source": [
    "# NULLS OF OUR CHOSEN COLUMNS"
   ]
  },
  {
   "cell_type": "code",
   "execution_count": 14,
   "id": "e03243d8",
   "metadata": {
    "execution": {
     "iopub.execute_input": "2023-12-16T11:37:27.804552Z",
     "iopub.status.busy": "2023-12-16T11:37:27.803698Z",
     "iopub.status.idle": "2023-12-16T11:37:27.899651Z",
     "shell.execute_reply": "2023-12-16T11:37:27.898539Z"
    },
    "papermill": {
     "duration": 0.109995,
     "end_time": "2023-12-16T11:37:27.902508",
     "exception": false,
     "start_time": "2023-12-16T11:37:27.792513",
     "status": "completed"
    },
    "tags": []
   },
   "outputs": [],
   "source": [
    "def show_nulls(columns, df):\n",
    "    null_dict = {'Column': [], 'Has Nulls': [], 'Total Columns': []}\n",
    "    \n",
    "    for e in columns:\n",
    "        has_nulls = df[e].isnull().any()\n",
    "        total = df[e].isnull().sum()\n",
    "        \n",
    "        null_dict['Column'].append(e)\n",
    "        null_dict['Has Nulls'].append(has_nulls)\n",
    "        null_dict['Total Columns'].append(total)\n",
    "    \n",
    "    result_df = pd.DataFrame(null_dict)\n",
    "    return result_df\n",
    "\n",
    "result_df1 = show_nulls(df.columns, df)\n"
   ]
  },
  {
   "cell_type": "markdown",
   "id": "3622ff6f",
   "metadata": {
    "papermill": {
     "duration": 0.009317,
     "end_time": "2023-12-16T11:37:27.921749",
     "exception": false,
     "start_time": "2023-12-16T11:37:27.912432",
     "status": "completed"
    },
    "tags": []
   },
   "source": [
    "# LET'S SEE THE NULLS IN THE CHOSEN COLUMNS FOR PLANETS"
   ]
  },
  {
   "cell_type": "code",
   "execution_count": 15,
   "id": "54e95ca9",
   "metadata": {
    "execution": {
     "iopub.execute_input": "2023-12-16T11:37:27.943473Z",
     "iopub.status.busy": "2023-12-16T11:37:27.943034Z",
     "iopub.status.idle": "2023-12-16T11:37:27.972924Z",
     "shell.execute_reply": "2023-12-16T11:37:27.971862Z"
    },
    "papermill": {
     "duration": 0.04424,
     "end_time": "2023-12-16T11:37:27.975771",
     "exception": false,
     "start_time": "2023-12-16T11:37:27.931531",
     "status": "completed"
    },
    "tags": []
   },
   "outputs": [],
   "source": [
    "def show_nulls(columns, df):\n",
    "    null_dict = {'Column': [], 'Has Nulls': [], 'Total Columns': []}\n",
    "    \n",
    "    for e in columns:\n",
    "        has_nulls = df[e].isnull().any()\n",
    "        total = df[e].isnull().sum()\n",
    "        \n",
    "        null_dict['Column'].append(e)\n",
    "        null_dict['Has Nulls'].append(has_nulls)\n",
    "        null_dict['Total Columns'].append(total)\n",
    "    \n",
    "    result_df = pd.DataFrame(null_dict)\n",
    "    return result_df\n",
    "\n",
    "result_df = show_nulls(column_names, df)\n"
   ]
  },
  {
   "cell_type": "code",
   "execution_count": 16,
   "id": "01c13750",
   "metadata": {
    "execution": {
     "iopub.execute_input": "2023-12-16T11:37:27.997791Z",
     "iopub.status.busy": "2023-12-16T11:37:27.997348Z",
     "iopub.status.idle": "2023-12-16T11:37:28.029480Z",
     "shell.execute_reply": "2023-12-16T11:37:28.028458Z"
    },
    "papermill": {
     "duration": 0.046715,
     "end_time": "2023-12-16T11:37:28.032416",
     "exception": false,
     "start_time": "2023-12-16T11:37:27.985701",
     "status": "completed"
    },
    "tags": []
   },
   "outputs": [],
   "source": [
    "df_planets_clean=df.copy()\n",
    "df_planets_clean[column_names].dropna(inplace=True)"
   ]
  },
  {
   "cell_type": "markdown",
   "id": "b888ab7d",
   "metadata": {
    "papermill": {
     "duration": 0.009641,
     "end_time": "2023-12-16T11:37:28.052143",
     "exception": false,
     "start_time": "2023-12-16T11:37:28.042502",
     "status": "completed"
    },
    "tags": []
   },
   "source": [
    "# THERE IS A LOT OF INFO MISSING, PARTICULARLY ABOUT EXOPLANETS"
   ]
  },
  {
   "cell_type": "markdown",
   "id": "a03b5e1b",
   "metadata": {
    "papermill": {
     "duration": 0.009435,
     "end_time": "2023-12-16T11:37:28.072343",
     "exception": false,
     "start_time": "2023-12-16T11:37:28.062908",
     "status": "completed"
    },
    "tags": []
   },
   "source": [
    "# WE SEE WE DO NOT HAVE CRUCIAL INFO ON A HIGH PERCENTAGE OF THEM. IMPUTING THEM WITH THE MEAN OR FILLING THEM IN ANY OTHER WAY WOULD BE NON-SENSE SINCE IT WOULDN'T BE ACCURATE"
   ]
  },
  {
   "cell_type": "markdown",
   "id": "8aa82cfb",
   "metadata": {
    "papermill": {
     "duration": 0.009386,
     "end_time": "2023-12-16T11:37:28.091432",
     "exception": false,
     "start_time": "2023-12-16T11:37:28.082046",
     "status": "completed"
    },
    "tags": []
   },
   "source": [
    "# STAR RELEVANT FEATURES"
   ]
  },
  {
   "cell_type": "code",
   "execution_count": 17,
   "id": "ac5d4974",
   "metadata": {
    "execution": {
     "iopub.execute_input": "2023-12-16T11:37:28.113052Z",
     "iopub.status.busy": "2023-12-16T11:37:28.112539Z",
     "iopub.status.idle": "2023-12-16T11:37:28.132492Z",
     "shell.execute_reply": "2023-12-16T11:37:28.131498Z"
    },
    "papermill": {
     "duration": 0.03375,
     "end_time": "2023-12-16T11:37:28.134834",
     "exception": false,
     "start_time": "2023-12-16T11:37:28.101084",
     "status": "completed"
    },
    "tags": []
   },
   "outputs": [
    {
     "data": {
      "text/html": [
       "<div>\n",
       "<style scoped>\n",
       "    .dataframe tbody tr th:only-of-type {\n",
       "        vertical-align: middle;\n",
       "    }\n",
       "\n",
       "    .dataframe tbody tr th {\n",
       "        vertical-align: top;\n",
       "    }\n",
       "\n",
       "    .dataframe thead th {\n",
       "        text-align: right;\n",
       "    }\n",
       "</style>\n",
       "<table border=\"1\" class=\"dataframe\">\n",
       "  <thead>\n",
       "    <tr style=\"text-align: right;\">\n",
       "      <th></th>\n",
       "      <th>Column</th>\n",
       "      <th>Has Nulls</th>\n",
       "      <th>Total Columns</th>\n",
       "    </tr>\n",
       "  </thead>\n",
       "  <tbody>\n",
       "    <tr>\n",
       "      <th>0</th>\n",
       "      <td>st_teff</td>\n",
       "      <td>True</td>\n",
       "      <td>2466</td>\n",
       "    </tr>\n",
       "    <tr>\n",
       "      <th>1</th>\n",
       "      <td>st_met</td>\n",
       "      <td>True</td>\n",
       "      <td>12569</td>\n",
       "    </tr>\n",
       "    <tr>\n",
       "      <th>2</th>\n",
       "      <td>st_mass</td>\n",
       "      <td>True</td>\n",
       "      <td>5286</td>\n",
       "    </tr>\n",
       "    <tr>\n",
       "      <th>3</th>\n",
       "      <td>sy_dist</td>\n",
       "      <td>True</td>\n",
       "      <td>788</td>\n",
       "    </tr>\n",
       "    <tr>\n",
       "      <th>4</th>\n",
       "      <td>st_rad</td>\n",
       "      <td>True</td>\n",
       "      <td>2349</td>\n",
       "    </tr>\n",
       "    <tr>\n",
       "      <th>5</th>\n",
       "      <td>sy_vmag</td>\n",
       "      <td>True</td>\n",
       "      <td>505</td>\n",
       "    </tr>\n",
       "    <tr>\n",
       "      <th>6</th>\n",
       "      <td>sy_kmag</td>\n",
       "      <td>True</td>\n",
       "      <td>524</td>\n",
       "    </tr>\n",
       "    <tr>\n",
       "      <th>7</th>\n",
       "      <td>sy_gaiamag</td>\n",
       "      <td>True</td>\n",
       "      <td>804</td>\n",
       "    </tr>\n",
       "  </tbody>\n",
       "</table>\n",
       "</div>"
      ],
      "text/plain": [
       "       Column  Has Nulls  Total Columns\n",
       "0     st_teff       True           2466\n",
       "1      st_met       True          12569\n",
       "2     st_mass       True           5286\n",
       "3     sy_dist       True            788\n",
       "4      st_rad       True           2349\n",
       "5     sy_vmag       True            505\n",
       "6     sy_kmag       True            524\n",
       "7  sy_gaiamag       True            804"
      ]
     },
     "execution_count": 17,
     "metadata": {},
     "output_type": "execute_result"
    }
   ],
   "source": [
    "star_columns=[\"st_teff\", \"st_met\", \"st_mass\", \"sy_dist\", \"st_rad\", \"sy_vmag\", \"sy_kmag\", \"sy_gaiamag\"]\n",
    "star_nulls = show_nulls(star_columns, df)\n",
    "star_nulls"
   ]
  },
  {
   "cell_type": "code",
   "execution_count": 18,
   "id": "780b3639",
   "metadata": {
    "execution": {
     "iopub.execute_input": "2023-12-16T11:37:28.157415Z",
     "iopub.status.busy": "2023-12-16T11:37:28.156917Z",
     "iopub.status.idle": "2023-12-16T11:37:28.177159Z",
     "shell.execute_reply": "2023-12-16T11:37:28.176022Z"
    },
    "papermill": {
     "duration": 0.034276,
     "end_time": "2023-12-16T11:37:28.179379",
     "exception": false,
     "start_time": "2023-12-16T11:37:28.145103",
     "status": "completed"
    },
    "tags": []
   },
   "outputs": [
    {
     "data": {
      "text/html": [
       "<div>\n",
       "<style scoped>\n",
       "    .dataframe tbody tr th:only-of-type {\n",
       "        vertical-align: middle;\n",
       "    }\n",
       "\n",
       "    .dataframe tbody tr th {\n",
       "        vertical-align: top;\n",
       "    }\n",
       "\n",
       "    .dataframe thead th {\n",
       "        text-align: right;\n",
       "    }\n",
       "</style>\n",
       "<table border=\"1\" class=\"dataframe\">\n",
       "  <thead>\n",
       "    <tr style=\"text-align: right;\">\n",
       "      <th></th>\n",
       "      <th>st_teff</th>\n",
       "      <th>st_met</th>\n",
       "      <th>st_mass</th>\n",
       "      <th>sy_dist</th>\n",
       "      <th>st_rad</th>\n",
       "      <th>sy_vmag</th>\n",
       "      <th>sy_kmag</th>\n",
       "      <th>sy_gaiamag</th>\n",
       "    </tr>\n",
       "  </thead>\n",
       "  <tbody>\n",
       "    <tr>\n",
       "      <th>0</th>\n",
       "      <td>4742.0</td>\n",
       "      <td>-0.35</td>\n",
       "      <td>2.70</td>\n",
       "      <td>93.1846</td>\n",
       "      <td>19.00</td>\n",
       "      <td>4.72307</td>\n",
       "      <td>2.282</td>\n",
       "      <td>4.44038</td>\n",
       "    </tr>\n",
       "    <tr>\n",
       "      <th>1</th>\n",
       "      <td>NaN</td>\n",
       "      <td>NaN</td>\n",
       "      <td>2.60</td>\n",
       "      <td>93.1846</td>\n",
       "      <td>NaN</td>\n",
       "      <td>4.72307</td>\n",
       "      <td>2.282</td>\n",
       "      <td>4.44038</td>\n",
       "    </tr>\n",
       "    <tr>\n",
       "      <th>2</th>\n",
       "      <td>4340.0</td>\n",
       "      <td>0.04</td>\n",
       "      <td>1.80</td>\n",
       "      <td>125.3210</td>\n",
       "      <td>24.08</td>\n",
       "      <td>5.01300</td>\n",
       "      <td>1.939</td>\n",
       "      <td>4.56216</td>\n",
       "    </tr>\n",
       "    <tr>\n",
       "      <th>3</th>\n",
       "      <td>NaN</td>\n",
       "      <td>NaN</td>\n",
       "      <td>1.70</td>\n",
       "      <td>125.3210</td>\n",
       "      <td>NaN</td>\n",
       "      <td>5.01300</td>\n",
       "      <td>1.939</td>\n",
       "      <td>4.56216</td>\n",
       "    </tr>\n",
       "    <tr>\n",
       "      <th>4</th>\n",
       "      <td>4213.0</td>\n",
       "      <td>-0.02</td>\n",
       "      <td>2.78</td>\n",
       "      <td>125.3210</td>\n",
       "      <td>29.79</td>\n",
       "      <td>5.01300</td>\n",
       "      <td>1.939</td>\n",
       "      <td>4.56216</td>\n",
       "    </tr>\n",
       "  </tbody>\n",
       "</table>\n",
       "</div>"
      ],
      "text/plain": [
       "   st_teff  st_met  st_mass   sy_dist  st_rad  sy_vmag  sy_kmag  sy_gaiamag\n",
       "0   4742.0   -0.35     2.70   93.1846   19.00  4.72307    2.282     4.44038\n",
       "1      NaN     NaN     2.60   93.1846     NaN  4.72307    2.282     4.44038\n",
       "2   4340.0    0.04     1.80  125.3210   24.08  5.01300    1.939     4.56216\n",
       "3      NaN     NaN     1.70  125.3210     NaN  5.01300    1.939     4.56216\n",
       "4   4213.0   -0.02     2.78  125.3210   29.79  5.01300    1.939     4.56216"
      ]
     },
     "execution_count": 18,
     "metadata": {},
     "output_type": "execute_result"
    }
   ],
   "source": [
    "#CHECK IF THESE COLUMNS ARE NUMERIC\n",
    "df[star_columns].select_dtypes(include=['int64', 'float64']).head()"
   ]
  },
  {
   "cell_type": "markdown",
   "id": "8a1701f9",
   "metadata": {
    "papermill": {
     "duration": 0.01005,
     "end_time": "2023-12-16T11:37:28.199852",
     "exception": false,
     "start_time": "2023-12-16T11:37:28.189802",
     "status": "completed"
    },
    "tags": []
   },
   "source": [
    "# WE FILLED ALL NULL VALUES"
   ]
  },
  {
   "cell_type": "code",
   "execution_count": 19,
   "id": "e6e1169f",
   "metadata": {
    "execution": {
     "iopub.execute_input": "2023-12-16T11:37:28.223003Z",
     "iopub.status.busy": "2023-12-16T11:37:28.222072Z",
     "iopub.status.idle": "2023-12-16T11:37:28.268885Z",
     "shell.execute_reply": "2023-12-16T11:37:28.267874Z"
    },
    "papermill": {
     "duration": 0.061753,
     "end_time": "2023-12-16T11:37:28.271830",
     "exception": false,
     "start_time": "2023-12-16T11:37:28.210077",
     "status": "completed"
    },
    "tags": []
   },
   "outputs": [],
   "source": [
    "df_star = df.copy()\n",
    "df_star[star_columns] = df_star[star_columns].fillna(df_star[star_columns].mean())"
   ]
  },
  {
   "cell_type": "markdown",
   "id": "513d99c0",
   "metadata": {
    "papermill": {
     "duration": 0.011021,
     "end_time": "2023-12-16T11:37:28.293805",
     "exception": false,
     "start_time": "2023-12-16T11:37:28.282784",
     "status": "completed"
    },
    "tags": []
   },
   "source": [
    "# LIFE SUPPORTING STAR CRITERIA"
   ]
  },
  {
   "cell_type": "raw",
   "id": "47864550",
   "metadata": {
    "papermill": {
     "duration": 0.010284,
     "end_time": "2023-12-16T11:37:28.314656",
     "exception": false,
     "start_time": "2023-12-16T11:37:28.304372",
     "status": "completed"
    },
    "tags": []
   },
   "source": [
    "# st_teff: the effective temperature of the star in Kelvin: 4,500 to 6,000 Kelvin.\n",
    "st_met: metallicity -0.5 to 0.5 dex for [Fe/H]. The Sun has 0.0\n",
    "st_mass: Main Sequence Stars (like the Sun): Approximately 0.8 to 1.2 solar masses.\n",
    "sy_dist: Stars at distances within 10 to 100 parsecs are often considered.\n",
    "st_rad: The radius of the Sun is approximately 1 solar radius (R☉). Approximately 0.8 to 1.2 solar radii.\n",
    "sy_vmag: Typically, stars with magnitudes between +4 and -1 are considered.\n",
    "sy_kmag:  stars with magnitudes between +3 and -2 are considered.\n",
    "sy_gaiamag: stars with magnitudes between +4 and -1 are considered."
   ]
  },
  {
   "cell_type": "code",
   "execution_count": 20,
   "id": "201c8753",
   "metadata": {
    "execution": {
     "iopub.execute_input": "2023-12-16T11:37:28.338355Z",
     "iopub.status.busy": "2023-12-16T11:37:28.336954Z",
     "iopub.status.idle": "2023-12-16T11:37:28.363239Z",
     "shell.execute_reply": "2023-12-16T11:37:28.362007Z"
    },
    "papermill": {
     "duration": 0.041086,
     "end_time": "2023-12-16T11:37:28.365870",
     "exception": false,
     "start_time": "2023-12-16T11:37:28.324784",
     "status": "completed"
    },
    "tags": []
   },
   "outputs": [
    {
     "data": {
      "text/html": [
       "<div>\n",
       "<style scoped>\n",
       "    .dataframe tbody tr th:only-of-type {\n",
       "        vertical-align: middle;\n",
       "    }\n",
       "\n",
       "    .dataframe tbody tr th {\n",
       "        vertical-align: top;\n",
       "    }\n",
       "\n",
       "    .dataframe thead th {\n",
       "        text-align: right;\n",
       "    }\n",
       "</style>\n",
       "<table border=\"1\" class=\"dataframe\">\n",
       "  <thead>\n",
       "    <tr style=\"text-align: right;\">\n",
       "      <th></th>\n",
       "      <th>pl_name</th>\n",
       "      <th>hostname</th>\n",
       "      <th>default_flag</th>\n",
       "      <th>sy_snum</th>\n",
       "      <th>sy_pnum</th>\n",
       "      <th>discoverymethod</th>\n",
       "      <th>disc_year</th>\n",
       "      <th>disc_facility</th>\n",
       "      <th>soltype</th>\n",
       "      <th>pl_controv_flag</th>\n",
       "      <th>...</th>\n",
       "      <th>sy_vmagerr2</th>\n",
       "      <th>sy_kmag</th>\n",
       "      <th>sy_kmagerr1</th>\n",
       "      <th>sy_kmagerr2</th>\n",
       "      <th>sy_gaiamag</th>\n",
       "      <th>sy_gaiamagerr1</th>\n",
       "      <th>sy_gaiamagerr2</th>\n",
       "      <th>rowupdate</th>\n",
       "      <th>pl_pubdate</th>\n",
       "      <th>releasedate</th>\n",
       "    </tr>\n",
       "  </thead>\n",
       "  <tbody>\n",
       "    <tr>\n",
       "      <th>0</th>\n",
       "      <td>11 Com b</td>\n",
       "      <td>11 Com</td>\n",
       "      <td>1</td>\n",
       "      <td>2</td>\n",
       "      <td>1</td>\n",
       "      <td>Radial Velocity</td>\n",
       "      <td>2007</td>\n",
       "      <td>Xinglong Station</td>\n",
       "      <td>Published Confirmed</td>\n",
       "      <td>0</td>\n",
       "      <td>...</td>\n",
       "      <td>-0.023</td>\n",
       "      <td>2.282</td>\n",
       "      <td>0.346</td>\n",
       "      <td>-0.346</td>\n",
       "      <td>4.44038</td>\n",
       "      <td>0.003848</td>\n",
       "      <td>-0.003848</td>\n",
       "      <td>14/05/14</td>\n",
       "      <td>2008-01</td>\n",
       "      <td>14/05/14</td>\n",
       "    </tr>\n",
       "    <tr>\n",
       "      <th>1</th>\n",
       "      <td>11 Com b</td>\n",
       "      <td>11 Com</td>\n",
       "      <td>0</td>\n",
       "      <td>2</td>\n",
       "      <td>1</td>\n",
       "      <td>Radial Velocity</td>\n",
       "      <td>2007</td>\n",
       "      <td>Xinglong Station</td>\n",
       "      <td>Published Confirmed</td>\n",
       "      <td>0</td>\n",
       "      <td>...</td>\n",
       "      <td>-0.023</td>\n",
       "      <td>2.282</td>\n",
       "      <td>0.346</td>\n",
       "      <td>-0.346</td>\n",
       "      <td>4.44038</td>\n",
       "      <td>0.003848</td>\n",
       "      <td>-0.003848</td>\n",
       "      <td>23/07/14</td>\n",
       "      <td>2011-08</td>\n",
       "      <td>23/07/14</td>\n",
       "    </tr>\n",
       "    <tr>\n",
       "      <th>2</th>\n",
       "      <td>11 UMi b</td>\n",
       "      <td>11 UMi</td>\n",
       "      <td>0</td>\n",
       "      <td>1</td>\n",
       "      <td>1</td>\n",
       "      <td>Radial Velocity</td>\n",
       "      <td>2009</td>\n",
       "      <td>Thueringer Landessternwarte Tautenburg</td>\n",
       "      <td>Published Confirmed</td>\n",
       "      <td>0</td>\n",
       "      <td>...</td>\n",
       "      <td>-0.005</td>\n",
       "      <td>1.939</td>\n",
       "      <td>0.270</td>\n",
       "      <td>-0.270</td>\n",
       "      <td>4.56216</td>\n",
       "      <td>0.003903</td>\n",
       "      <td>-0.003903</td>\n",
       "      <td>25/04/18</td>\n",
       "      <td>2009-10</td>\n",
       "      <td>14/05/14</td>\n",
       "    </tr>\n",
       "    <tr>\n",
       "      <th>3</th>\n",
       "      <td>11 UMi b</td>\n",
       "      <td>11 UMi</td>\n",
       "      <td>0</td>\n",
       "      <td>1</td>\n",
       "      <td>1</td>\n",
       "      <td>Radial Velocity</td>\n",
       "      <td>2009</td>\n",
       "      <td>Thueringer Landessternwarte Tautenburg</td>\n",
       "      <td>Published Confirmed</td>\n",
       "      <td>0</td>\n",
       "      <td>...</td>\n",
       "      <td>-0.005</td>\n",
       "      <td>1.939</td>\n",
       "      <td>0.270</td>\n",
       "      <td>-0.270</td>\n",
       "      <td>4.56216</td>\n",
       "      <td>0.003903</td>\n",
       "      <td>-0.003903</td>\n",
       "      <td>25/04/18</td>\n",
       "      <td>2011-08</td>\n",
       "      <td>23/07/14</td>\n",
       "    </tr>\n",
       "    <tr>\n",
       "      <th>4</th>\n",
       "      <td>11 UMi b</td>\n",
       "      <td>11 UMi</td>\n",
       "      <td>1</td>\n",
       "      <td>1</td>\n",
       "      <td>1</td>\n",
       "      <td>Radial Velocity</td>\n",
       "      <td>2009</td>\n",
       "      <td>Thueringer Landessternwarte Tautenburg</td>\n",
       "      <td>Published Confirmed</td>\n",
       "      <td>0</td>\n",
       "      <td>...</td>\n",
       "      <td>-0.005</td>\n",
       "      <td>1.939</td>\n",
       "      <td>0.270</td>\n",
       "      <td>-0.270</td>\n",
       "      <td>4.56216</td>\n",
       "      <td>0.003903</td>\n",
       "      <td>-0.003903</td>\n",
       "      <td>04/09/18</td>\n",
       "      <td>2017-03</td>\n",
       "      <td>06/09/18</td>\n",
       "    </tr>\n",
       "  </tbody>\n",
       "</table>\n",
       "<p>5 rows × 92 columns</p>\n",
       "</div>"
      ],
      "text/plain": [
       "    pl_name hostname  default_flag  sy_snum  sy_pnum  discoverymethod  \\\n",
       "0  11 Com b   11 Com             1        2        1  Radial Velocity   \n",
       "1  11 Com b   11 Com             0        2        1  Radial Velocity   \n",
       "2  11 UMi b   11 UMi             0        1        1  Radial Velocity   \n",
       "3  11 UMi b   11 UMi             0        1        1  Radial Velocity   \n",
       "4  11 UMi b   11 UMi             1        1        1  Radial Velocity   \n",
       "\n",
       "   disc_year                           disc_facility              soltype  \\\n",
       "0       2007                        Xinglong Station  Published Confirmed   \n",
       "1       2007                        Xinglong Station  Published Confirmed   \n",
       "2       2009  Thueringer Landessternwarte Tautenburg  Published Confirmed   \n",
       "3       2009  Thueringer Landessternwarte Tautenburg  Published Confirmed   \n",
       "4       2009  Thueringer Landessternwarte Tautenburg  Published Confirmed   \n",
       "\n",
       "   pl_controv_flag  ... sy_vmagerr2  sy_kmag  sy_kmagerr1  sy_kmagerr2  \\\n",
       "0                0  ...      -0.023    2.282        0.346       -0.346   \n",
       "1                0  ...      -0.023    2.282        0.346       -0.346   \n",
       "2                0  ...      -0.005    1.939        0.270       -0.270   \n",
       "3                0  ...      -0.005    1.939        0.270       -0.270   \n",
       "4                0  ...      -0.005    1.939        0.270       -0.270   \n",
       "\n",
       "   sy_gaiamag  sy_gaiamagerr1  sy_gaiamagerr2  rowupdate  pl_pubdate  \\\n",
       "0     4.44038        0.003848       -0.003848   14/05/14     2008-01   \n",
       "1     4.44038        0.003848       -0.003848   23/07/14     2011-08   \n",
       "2     4.56216        0.003903       -0.003903   25/04/18     2009-10   \n",
       "3     4.56216        0.003903       -0.003903   25/04/18     2011-08   \n",
       "4     4.56216        0.003903       -0.003903   04/09/18     2017-03   \n",
       "\n",
       "   releasedate  \n",
       "0     14/05/14  \n",
       "1     23/07/14  \n",
       "2     14/05/14  \n",
       "3     23/07/14  \n",
       "4     06/09/18  \n",
       "\n",
       "[5 rows x 92 columns]"
      ]
     },
     "execution_count": 20,
     "metadata": {},
     "output_type": "execute_result"
    }
   ],
   "source": [
    "df_star.head()"
   ]
  },
  {
   "cell_type": "code",
   "execution_count": 21,
   "id": "48d0a2a7",
   "metadata": {
    "execution": {
     "iopub.execute_input": "2023-12-16T11:37:28.390375Z",
     "iopub.status.busy": "2023-12-16T11:37:28.389903Z",
     "iopub.status.idle": "2023-12-16T11:37:28.396036Z",
     "shell.execute_reply": "2023-12-16T11:37:28.395219Z"
    },
    "papermill": {
     "duration": 0.021395,
     "end_time": "2023-12-16T11:37:28.398353",
     "exception": false,
     "start_time": "2023-12-16T11:37:28.376958",
     "status": "completed"
    },
    "tags": []
   },
   "outputs": [
    {
     "data": {
      "text/plain": [
       "(33919, 92)"
      ]
     },
     "execution_count": 21,
     "metadata": {},
     "output_type": "execute_result"
    }
   ],
   "source": [
    "df_star.shape"
   ]
  },
  {
   "cell_type": "markdown",
   "id": "523322af",
   "metadata": {
    "papermill": {
     "duration": 0.010678,
     "end_time": "2023-12-16T11:37:28.420149",
     "exception": false,
     "start_time": "2023-12-16T11:37:28.409471",
     "status": "completed"
    },
    "tags": []
   },
   "source": [
    "# VISUALIZATION"
   ]
  },
  {
   "cell_type": "code",
   "execution_count": 22,
   "id": "0c73bb16",
   "metadata": {
    "execution": {
     "iopub.execute_input": "2023-12-16T11:37:28.444696Z",
     "iopub.status.busy": "2023-12-16T11:37:28.443816Z",
     "iopub.status.idle": "2023-12-16T11:37:28.946672Z",
     "shell.execute_reply": "2023-12-16T11:37:28.944086Z"
    },
    "papermill": {
     "duration": 0.519482,
     "end_time": "2023-12-16T11:37:28.950472",
     "exception": false,
     "start_time": "2023-12-16T11:37:28.430990",
     "status": "completed"
    },
    "tags": []
   },
   "outputs": [
    {
     "data": {
      "image/png": "[encoded data removed]",
      "text/plain": [
       "<Figure size 1000x800 with 2 Axes>"
      ]
     },
     "metadata": {},
     "output_type": "display_data"
    }
   ],
   "source": [
    "matrix = df_star[star_columns].corr()\n",
    "\n",
    "mask = np.triu(np.ones_like(matrix, dtype=bool))\n",
    "plt.figure(figsize=(10, 8))\n",
    "\n",
    "sns.heatmap(matrix,\n",
    "            center=0, \n",
    "            fmt=\".1f\", \n",
    "            mask=mask, \n",
    "            square=True, \n",
    "            linewidth=0.3, \n",
    "            annot=True, \n",
    "            cmap='coolwarm')\n",
    "\n",
    "plt.show()"
   ]
  },
  {
   "cell_type": "code",
   "execution_count": 23,
   "id": "b899749f",
   "metadata": {
    "execution": {
     "iopub.execute_input": "2023-12-16T11:37:28.979102Z",
     "iopub.status.busy": "2023-12-16T11:37:28.978596Z",
     "iopub.status.idle": "2023-12-16T11:37:28.983906Z",
     "shell.execute_reply": "2023-12-16T11:37:28.982862Z"
    },
    "papermill": {
     "duration": 0.021282,
     "end_time": "2023-12-16T11:37:28.986228",
     "exception": false,
     "start_time": "2023-12-16T11:37:28.964946",
     "status": "completed"
    },
    "tags": []
   },
   "outputs": [],
   "source": [
    "#These features are highly correlated: sy_vmag and sy_gaiamag(brightness), sy_kmag(temperature).\n",
    "#They may be helpful to indicate temperature, color, distance, radiation... of the star."
   ]
  },
  {
   "cell_type": "markdown",
   "id": "85ad232e",
   "metadata": {
    "papermill": {
     "duration": 0.011557,
     "end_time": "2023-12-16T11:37:29.010418",
     "exception": false,
     "start_time": "2023-12-16T11:37:28.998861",
     "status": "completed"
    },
    "tags": []
   },
   "source": [
    "# PROJECT IDEA TO BE CONTINUED:\n",
    "# USING THE CRITERIA ABOVE (SIMILAR TO THE SUN) TO CREATE A MODEL THAT CLASSIFIES THESE STARS IN POTENTIAL LIFE-SUPPORTING STARS"
   ]
  },
  {
   "cell_type": "code",
   "execution_count": null,
   "id": "d81df666",
   "metadata": {
    "papermill": {
     "duration": 0.011196,
     "end_time": "2023-12-16T11:37:29.033727",
     "exception": false,
     "start_time": "2023-12-16T11:37:29.022531",
     "status": "completed"
    },
    "tags": []
   },
   "outputs": [],
   "source": []
  }
 ],
 "metadata": {
  "kaggle": {
   "accelerator": "none",
   "dataSources": [
    {
     "datasetId": 2988942,
     "sourceId": 5144621,
     "sourceType": "datasetVersion"
    }
   ],
   "dockerImageVersionId": 30626,
   "isGpuEnabled": false,
   "isInternetEnabled": false,
   "language": "python",
   "sourceType": "notebook"
  },
  "kernelspec": {
   "display_name": "Python 3",
   "language": "python",
   "name": "python3"
  },
  "language_info": {
   "codemirror_mode": {
    "name": "ipython",
    "version": 3
   },
   "file_extension": ".py",
   "mimetype": "text/x-python",
   "name": "python",
   "nbconvert_exporter": "python",
   "pygments_lexer": "ipython3",
   "version": "3.10.12"
  },
  "papermill": {
   "default_parameters": {},
   "duration": 9.972031,
   "end_time": "2023-12-16T11:37:29.969416",
   "environment_variables": {},
   "exception": null,
   "input_path": "__notebook__.ipynb",
   "output_path": "__notebook__.ipynb",
   "parameters": {},
   "start_time": "2023-12-16T11:37:19.997385",
   "version": "2.4.0"
  }
 },
 "nbformat": 4,
 "nbformat_minor": 5
}
